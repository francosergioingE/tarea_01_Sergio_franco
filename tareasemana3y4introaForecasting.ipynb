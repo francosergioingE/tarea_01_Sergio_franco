{
  "nbformat": 4,
  "nbformat_minor": 0,
  "metadata": {
    "colab": {
      "name": "Copia de BaseDatosOro.ipynb",
      "provenance": [],
      "include_colab_link": true
    },
    "kernelspec": {
      "name": "python3",
      "display_name": "Python 3"
    },
    "language_info": {
      "name": "python"
    }
  },
  "cells": [
    {
      "cell_type": "markdown",
      "metadata": {
        "id": "view-in-github",
        "colab_type": "text"
      },
      "source": [
        "<a href=\"https://colab.research.google.com/github/francosergioingE/tarea_01_Sergio_franco/blob/main/tareasemana3y4introaForecasting.ipynb\" target=\"_parent\"><img src=\"https://colab.research.google.com/assets/colab-badge.svg\" alt=\"Open In Colab\"/></a>"
      ]
    },
    {
      "cell_type": "markdown",
      "metadata": {
        "id": "RgsTEhRlF39V"
      },
      "source": [
        "## ORO!!! Forecasting"
      ]
    },
    {
      "cell_type": "markdown",
      "metadata": {
        "id": "znX9b1Q-cd9q"
      },
      "source": [
        "sergio steven franco arboleda"
      ]
    },
    {
      "cell_type": "code",
      "metadata": {
        "id": "N7tyhnsLGA30"
      },
      "source": [
        "## Importando las librerías\n",
        "import pandas as pd\n",
        "import numpy as np\n",
        "from mpl_toolkits import mplot3d\n",
        "import matplotlib.pyplot as plt"
      ],
      "execution_count": null,
      "outputs": []
    },
    {
      "cell_type": "code",
      "metadata": {
        "colab": {
          "base_uri": "https://localhost:8080/",
          "height": 314
        },
        "id": "Opw7aPwUGEoV",
        "outputId": "2172650f-7c27-4ed1-ae5f-6f278cd4d7ae"
      },
      "source": [
        "dataframeGold = pd.read_csv('gold_price_data.csv')\n",
        "print(dataframeGold.columns)\n",
        "dataframeGold.describe()"
      ],
      "execution_count": null,
      "outputs": [
        {
          "output_type": "stream",
          "text": [
            "Index(['Date', 'Value'], dtype='object')\n"
          ],
          "name": "stdout"
        },
        {
          "output_type": "execute_result",
          "data": {
            "text/html": [
              "<div>\n",
              "<style scoped>\n",
              "    .dataframe tbody tr th:only-of-type {\n",
              "        vertical-align: middle;\n",
              "    }\n",
              "\n",
              "    .dataframe tbody tr th {\n",
              "        vertical-align: top;\n",
              "    }\n",
              "\n",
              "    .dataframe thead th {\n",
              "        text-align: right;\n",
              "    }\n",
              "</style>\n",
              "<table border=\"1\" class=\"dataframe\">\n",
              "  <thead>\n",
              "    <tr style=\"text-align: right;\">\n",
              "      <th></th>\n",
              "      <th>Value</th>\n",
              "    </tr>\n",
              "  </thead>\n",
              "  <tbody>\n",
              "    <tr>\n",
              "      <th>count</th>\n",
              "      <td>10787.000000</td>\n",
              "    </tr>\n",
              "    <tr>\n",
              "      <th>mean</th>\n",
              "      <td>653.596634</td>\n",
              "    </tr>\n",
              "    <tr>\n",
              "      <th>std</th>\n",
              "      <td>434.030848</td>\n",
              "    </tr>\n",
              "    <tr>\n",
              "      <th>min</th>\n",
              "      <td>35.100000</td>\n",
              "    </tr>\n",
              "    <tr>\n",
              "      <th>25%</th>\n",
              "      <td>349.200000</td>\n",
              "    </tr>\n",
              "    <tr>\n",
              "      <th>50%</th>\n",
              "      <td>409.350000</td>\n",
              "    </tr>\n",
              "    <tr>\n",
              "      <th>75%</th>\n",
              "      <td>1061.625000</td>\n",
              "    </tr>\n",
              "    <tr>\n",
              "      <th>max</th>\n",
              "      <td>1895.000000</td>\n",
              "    </tr>\n",
              "  </tbody>\n",
              "</table>\n",
              "</div>"
            ],
            "text/plain": [
              "              Value\n",
              "count  10787.000000\n",
              "mean     653.596634\n",
              "std      434.030848\n",
              "min       35.100000\n",
              "25%      349.200000\n",
              "50%      409.350000\n",
              "75%     1061.625000\n",
              "max     1895.000000"
            ]
          },
          "metadata": {},
          "execution_count": 2
        }
      ]
    },
    {
      "cell_type": "code",
      "metadata": {
        "colab": {
          "base_uri": "https://localhost:8080/",
          "height": 565
        },
        "id": "e7n6GXFSHb5q",
        "outputId": "d095a1d8-1995-4aa3-be67-df2c4f71da07"
      },
      "source": [
        "print(dataframeGold.dtypes)\n",
        "dataframeGold.head(15)"
      ],
      "execution_count": null,
      "outputs": [
        {
          "output_type": "stream",
          "text": [
            "Date      object\n",
            "Value    float64\n",
            "dtype: object\n"
          ],
          "name": "stdout"
        },
        {
          "output_type": "execute_result",
          "data": {
            "text/html": [
              "<div>\n",
              "<style scoped>\n",
              "    .dataframe tbody tr th:only-of-type {\n",
              "        vertical-align: middle;\n",
              "    }\n",
              "\n",
              "    .dataframe tbody tr th {\n",
              "        vertical-align: top;\n",
              "    }\n",
              "\n",
              "    .dataframe thead th {\n",
              "        text-align: right;\n",
              "    }\n",
              "</style>\n",
              "<table border=\"1\" class=\"dataframe\">\n",
              "  <thead>\n",
              "    <tr style=\"text-align: right;\">\n",
              "      <th></th>\n",
              "      <th>Date</th>\n",
              "      <th>Value</th>\n",
              "    </tr>\n",
              "  </thead>\n",
              "  <tbody>\n",
              "    <tr>\n",
              "      <th>0</th>\n",
              "      <td>1970-01-01</td>\n",
              "      <td>35.2</td>\n",
              "    </tr>\n",
              "    <tr>\n",
              "      <th>1</th>\n",
              "      <td>1970-04-01</td>\n",
              "      <td>35.1</td>\n",
              "    </tr>\n",
              "    <tr>\n",
              "      <th>2</th>\n",
              "      <td>1970-07-01</td>\n",
              "      <td>35.4</td>\n",
              "    </tr>\n",
              "    <tr>\n",
              "      <th>3</th>\n",
              "      <td>1970-10-01</td>\n",
              "      <td>36.2</td>\n",
              "    </tr>\n",
              "    <tr>\n",
              "      <th>4</th>\n",
              "      <td>1971-01-01</td>\n",
              "      <td>37.4</td>\n",
              "    </tr>\n",
              "    <tr>\n",
              "      <th>5</th>\n",
              "      <td>1971-04-01</td>\n",
              "      <td>38.9</td>\n",
              "    </tr>\n",
              "    <tr>\n",
              "      <th>6</th>\n",
              "      <td>1971-07-01</td>\n",
              "      <td>40.1</td>\n",
              "    </tr>\n",
              "    <tr>\n",
              "      <th>7</th>\n",
              "      <td>1971-10-01</td>\n",
              "      <td>42.0</td>\n",
              "    </tr>\n",
              "    <tr>\n",
              "      <th>8</th>\n",
              "      <td>1972-01-03</td>\n",
              "      <td>43.5</td>\n",
              "    </tr>\n",
              "    <tr>\n",
              "      <th>9</th>\n",
              "      <td>1972-04-03</td>\n",
              "      <td>48.3</td>\n",
              "    </tr>\n",
              "    <tr>\n",
              "      <th>10</th>\n",
              "      <td>1972-07-03</td>\n",
              "      <td>62.1</td>\n",
              "    </tr>\n",
              "    <tr>\n",
              "      <th>11</th>\n",
              "      <td>1972-10-02</td>\n",
              "      <td>65.5</td>\n",
              "    </tr>\n",
              "    <tr>\n",
              "      <th>12</th>\n",
              "      <td>1973-01-01</td>\n",
              "      <td>63.9</td>\n",
              "    </tr>\n",
              "    <tr>\n",
              "      <th>13</th>\n",
              "      <td>1973-04-02</td>\n",
              "      <td>84.4</td>\n",
              "    </tr>\n",
              "    <tr>\n",
              "      <th>14</th>\n",
              "      <td>1973-07-02</td>\n",
              "      <td>120.1</td>\n",
              "    </tr>\n",
              "  </tbody>\n",
              "</table>\n",
              "</div>"
            ],
            "text/plain": [
              "          Date  Value\n",
              "0   1970-01-01   35.2\n",
              "1   1970-04-01   35.1\n",
              "2   1970-07-01   35.4\n",
              "3   1970-10-01   36.2\n",
              "4   1971-01-01   37.4\n",
              "5   1971-04-01   38.9\n",
              "6   1971-07-01   40.1\n",
              "7   1971-10-01   42.0\n",
              "8   1972-01-03   43.5\n",
              "9   1972-04-03   48.3\n",
              "10  1972-07-03   62.1\n",
              "11  1972-10-02   65.5\n",
              "12  1973-01-01   63.9\n",
              "13  1973-04-02   84.4\n",
              "14  1973-07-02  120.1"
            ]
          },
          "metadata": {},
          "execution_count": 61
        }
      ]
    },
    {
      "cell_type": "code",
      "metadata": {
        "colab": {
          "base_uri": "https://localhost:8080/"
        },
        "id": "k0kuvBqqIDr9",
        "outputId": "32522504-0e57-4594-a27f-62a3b3a24b3e"
      },
      "source": [
        "etiqueta = np.array(dataframeGold['Value'])[2:]\n",
        "car_m1 = np.array(dataframeGold['Value'])[1:-1]\n",
        "car_m2 = np.array(dataframeGold['Value'])[:-2]\n",
        "print(len(etiqueta))\n",
        "print(len(car_m1))\n",
        "print(len(car_m2))"
      ],
      "execution_count": null,
      "outputs": [
        {
          "output_type": "stream",
          "text": [
            "10785\n",
            "10785\n",
            "10785\n"
          ],
          "name": "stdout"
        }
      ]
    },
    {
      "cell_type": "code",
      "metadata": {
        "id": "C_kbWkKeJV0p"
      },
      "source": [
        "## Agrupando los datos en un único Dataframe y exportándolo a un archivo CSV\n",
        "dataset = pd.DataFrame({'Carac menos 2':car_m2, 'Carac menos 1':car_m1, 'Etiqueta':etiqueta})\n",
        "dataset.to_csv('goldPriceArranged.csv')"
      ],
      "execution_count": null,
      "outputs": []
    },
    {
      "cell_type": "code",
      "metadata": {
        "colab": {
          "base_uri": "https://localhost:8080/"
        },
        "id": "g0aUVperRvwL",
        "outputId": "68df200a-012a-4084-f4a1-8b5bcf48c5ba"
      },
      "source": [
        "## Pasando los datos a una matriz de tipo numpy\n",
        "matrizDatos = dataset.to_numpy()\n",
        "print(matrizDatos.shape)"
      ],
      "execution_count": null,
      "outputs": [
        {
          "output_type": "stream",
          "text": [
            "(10785, 3)\n"
          ],
          "name": "stdout"
        }
      ]
    },
    {
      "cell_type": "code",
      "metadata": {
        "id": "kwVd3mzewX6t"
      },
      "source": [
        "def funcCosto(arr_1, arr_2):\n",
        "  J = np.power(arr_1-arr_2,2)\n",
        "  return np.sum(J)/(2*len(J))"
      ],
      "execution_count": null,
      "outputs": []
    },
    {
      "cell_type": "code",
      "metadata": {
        "colab": {
          "base_uri": "https://localhost:8080/"
        },
        "id": "5GJv69PJsOQ_",
        "outputId": "45eef0ef-91d3-4bfc-f224-2cf8b0d966a8"
      },
      "source": [
        "## Pasos GridSearch\n",
        "#  h(x) = T0*x0 + T1*x1\n",
        "\n",
        "# 1. Valores a T0 a T1\n",
        "dict_resultados = dict()\n",
        "\n",
        "for T0 in np.arange(-10,10,1/10):\n",
        "  for T1 in np.arange(-10,10,1/10):\n",
        "\n",
        "#   2. Encuentras h(x)\n",
        "    h_x = T0*car_m1 + T1*car_m2\n",
        "\n",
        "#   3. Evalúar la función de costo\n",
        "    dict_resultados[(T0,T1)]=funcCosto(h_x,etiqueta)\n",
        "    \n",
        "# 4. Encontrar el menor\n",
        "parameters = list(dict_resultados.keys())\n",
        "#print(parameters)\n",
        "costValues = np.array(list(dict_resultados.values()))\n",
        "#print(costValues)\n",
        "indexMinCost = costValues.argmin()\n",
        "print(indexMinCost)\n",
        "bestParameters = parameters[indexMinCost]\n",
        "print(\"Los mejores parámetros son:\",bestParameters,\"donde la función de costo retornó: \",costValues[indexMinCost])\n",
        "print(\"el resultado con mejor estimacion fue 40.8, en general, no baja del valor\")"
      ],
      "execution_count": null,
      "outputs": [
        {
          "output_type": "stream",
          "text": [
            "22100\n",
            "Los mejores parámetros son: (0.9999999999999609, -3.552713678800501e-14) donde la función de costo retornó:  40.808982642564544\n",
            "el resultado con mejor estimacion fue 40.8, en general, no baja del valor\n"
          ],
          "name": "stdout"
        }
      ]
    },
    {
      "cell_type": "code",
      "metadata": {
        "colab": {
          "base_uri": "https://localhost:8080/",
          "height": 335
        },
        "id": "FPIQGgBsV3uL",
        "outputId": "45f20a81-4049-4832-fb6a-f0b51c77ac72"
      },
      "source": [
        "print(\"Los mejores parámetros son:\",bestParameters,\"donde la función de costo retornó: \",costValues[indexMinCost])\n",
        "plt.scatter(car_m1,etiqueta)\n",
        "x = np.arange(car_m1.min(),car_m1.max(),(car_m1.max()-car_m1.min())/1000)\n",
        "plt.plot(x,bestParameters[0]+bestParameters[1]*x,'r-')\n",
        "plt.title(\"Muestras e Hipótesis\")\n",
        "plt.show()\n",
        "print(\"el resultado tiene una estimacion mala, por lo cual no se obtiene una grafica coherente y correcta\")"
      ],
      "execution_count": null,
      "outputs": [
        {
          "output_type": "stream",
          "text": [
            "Los mejores parámetros son: (0.9999999999999996, -2.220446049250313e-16) donde la función de costo retornó:  40.80898264255915\n"
          ],
          "name": "stdout"
        },
        {
          "output_type": "display_data",
          "data": {
            "image/png": "[encoded data removed]",
            "text/plain": [
              "<Figure size 432x288 with 1 Axes>"
            ]
          },
          "metadata": {
            "needs_background": "light"
          }
        },
        {
          "output_type": "stream",
          "text": [
            "el resultado tiene una estimacion mala, por lo cual no se obtiene una grafica coherente y correcta\n"
          ],
          "name": "stdout"
        }
      ]
    }
  ]
}