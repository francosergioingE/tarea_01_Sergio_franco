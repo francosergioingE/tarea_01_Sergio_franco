{
  "nbformat": 4,
  "nbformat_minor": 0,
  "metadata": {
    "colab": {
      "name": "Coeficiente_de_determinacion.ipynb",
      "provenance": [],
      "include_colab_link": true
    },
    "kernelspec": {
      "name": "python3",
      "display_name": "Python 3"
    },
    "language_info": {
      "name": "python"
    }
  },
  "cells": [
    {
      "cell_type": "markdown",
      "metadata": {
        "id": "view-in-github",
        "colab_type": "text"
      },
      "source": [
        "<a href=\"https://colab.research.google.com/github/francosergioingE/tarea_01_Sergio_franco/blob/main/Coeficiente_de_determinacion.ipynb\" target=\"_parent\"><img src=\"https://colab.research.google.com/assets/colab-badge.svg\" alt=\"Open In Colab\"/></a>"
      ]
    },
    {
      "cell_type": "markdown",
      "metadata": {
        "id": "RM-X13yRa2Pz"
      },
      "source": [
        "determinación del valor del coheficiente de determinacion o  R²\n",
        "SERGIO STEVEN FRANC ARBOLEDA"
      ]
    },
    {
      "cell_type": "code",
      "metadata": {
        "id": "fMRtr45KaH6x"
      },
      "source": [
        "## Librerias\n",
        "import numpy as np\n",
        "# Caracteristicas\n",
        "Carac = np.array([1, 1.5, 2, 2.5, 3, 3.5, 4, 4.5, 5, 5.5, 6])\n",
        "# Etiquetas \n",
        "etiq = np.array([0.169610271922408, 0.283395812542308, 0.386358737510785, 0.470227872390909, 0.433281293764675, 0.600267648212653, 0.738338980436742, 0.790315020494445, 0.877464268422459, 0.84356446225183, 0.96443891694455])\n",
        "T0=0.0399999999999352       #theta0\n",
        "T1=0.15999999999993264      #theta1\n",
        "h_x = T0 + T1*Carac         #Modelo lineal con los valores de theta1 y theta0 (calculados en clase)\n"
      ],
      "execution_count": 7,
      "outputs": []
    },
    {
      "cell_type": "code",
      "metadata": {
        "id": "jLzWR5B5alfJ"
      },
      "source": [
        "\n",
        "media_et=etiq.mean()        #Media de los valores de las etiquetas (media_et)\n",
        "Prome_h=h_x.mean()\n",
        "# almacenar los resultados\n",
        "Num=np.zeros(11)\n",
        "Den=np.zeros(11)\n"
      ],
      "execution_count": 8,
      "outputs": []
    },
    {
      "cell_type": "code",
      "metadata": {
        "id": "5CST23L6ao3w"
      },
      "source": [
        "\n",
        "for i in range(len(etiq)):\n",
        "    Num[i] = pow(etiq[i]-media_et,2) # coeficiente de error para cada etiqueta\n",
        "    Den[i] = pow(h_x[i]-Prome_h,2)  # variación de cada etiqueta\n",
        "    \n",
        "Num=Num.sum()/(len(etiq)-1)     #coeficiente de error entre los puntos y el modelo(recta)\n",
        "Den=Den.sum()/(len(h_x)-1)      #variacion total etiquetas\n",
        "Coeficiente_de_determinacion=Num/Den\n"
      ],
      "execution_count": 10,
      "outputs": []
    },
    {
      "cell_type": "code",
      "metadata": {
        "id": "HQ1iRNPuaqkf",
        "outputId": "2b960f2a-b839-4983-aba6-da3c3fdabeba",
        "colab": {
          "base_uri": "https://localhost:8080/"
        }
      },
      "source": [
        "print(Coeficiente_de_determinacion) # mostrar valor total de coeficiente de determinación"
      ],
      "execution_count": 11,
      "outputs": [
        {
          "output_type": "stream",
          "name": "stdout",
          "text": [
            "0.9944166985467987\n"
          ]
        }
      ]
    }
  ]
}